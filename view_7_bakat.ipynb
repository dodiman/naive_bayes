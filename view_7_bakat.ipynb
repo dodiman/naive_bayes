{
 "cells": [
  {
   "cell_type": "code",
   "execution_count": 1,
   "metadata": {},
   "outputs": [],
   "source": [
    "import os\n",
    "os.environ['DJANGO_ALLOW_ASYNC_UNSAFE'] = 'true'\n",
    "\n",
    "import pandas as pd\n",
    "import numpy as np\n",
    "\n",
    "from myapp.models import Datas\n",
    "\n",
    "db = Datas.objects.all()\n",
    "df = pd.DataFrame(db.values())"
   ]
  },
  {
   "cell_type": "code",
   "execution_count": 2,
   "metadata": {},
   "outputs": [],
   "source": [
    "def konvers(csv):\n",
    "    csv[['jenis_kelamin']] = np.where(csv[['jenis_kelamin']] == 'perempuan', 0, 1)\n",
    "\n",
    "    kondisi = [\n",
    "            (csv['jenis_kelamin'] == 1) & (csv['tinggi_badan'] < 148),\n",
    "            (csv['jenis_kelamin'] == 1) & (csv['tinggi_badan'] > 158),\n",
    "            (csv['jenis_kelamin'] == 0) & (csv['tinggi_badan'] < 145), \n",
    "            (csv['jenis_kelamin'] == 0) & (csv['tinggi_badan'] > 155)\n",
    "        ]\n",
    "\n",
    "    kondisi_berat_badan = [\n",
    "            (csv['jenis_kelamin'] == 1) & (csv['berat_badan'] < 37),\n",
    "            (csv['jenis_kelamin'] == 1) & (csv['berat_badan'] > 45),\n",
    "            (csv['jenis_kelamin'] == 0) & (csv['berat_badan'] < 35), \n",
    "            (csv['jenis_kelamin'] == 0) & (csv['berat_badan'] > 40)\n",
    "        ]\n",
    "\n",
    "    pilihan = [0, 0, 0, 0]\n",
    "    csv['tinggi_badan'] = np.select(kondisi, pilihan, default=1)\n",
    "    csv['berat_badan'] = np.select(kondisi_berat_badan, pilihan, default=1)\n",
    "    return csv"
   ]
  },
  {
   "cell_type": "code",
   "execution_count": 3,
   "metadata": {},
   "outputs": [],
   "source": [
    "csv = df.copy()\n",
    "labeling = csv.copy()"
   ]
  },
  {
   "cell_type": "code",
   "execution_count": 4,
   "metadata": {},
   "outputs": [],
   "source": [
    "labeling = konvers(csv)"
   ]
  },
  {
   "cell_type": "code",
   "execution_count": 5,
   "metadata": {},
   "outputs": [],
   "source": [
    "data_training_lari = labeling[['jenis_kelamin', 'tinggi_badan', 'berat_badan', 'kemampuan_fisik_lari', 'teknik_dasar_lari', 'hasil_bakat_lari']]\n",
    "data_training_voli = labeling[['jenis_kelamin', 'tinggi_badan', 'berat_badan', 'kemampuan_fisik_voli', 'teknik_dasar_voli', 'hasil_bakat_voli']]\n",
    "data_training_renang = labeling[['jenis_kelamin', 'tinggi_badan', 'berat_badan', 'kemampuan_fisik_renang', 'teknik_dasar_renang', 'hasil_bakat_renang']]\n",
    "data_training_bulu_tangkis = labeling[['jenis_kelamin', 'tinggi_badan', 'berat_badan', 'kemampuan_fisik_bulu_tangkis', 'teknik_dasar_bulu_tangkis', 'hasil_bakat_bulu_tangkis']]\n",
    "data_training_sepak_bola = labeling[['jenis_kelamin', 'tinggi_badan', 'berat_badan', 'kemampuan_fisik_sepak_bola', 'teknik_dasar_sepak_bola', 'hasil_bakat_sepak_bola']]\n",
    "data_training_tenis_meja = labeling[['jenis_kelamin', 'tinggi_badan', 'berat_badan', 'kemampuan_fisik_tenis_meja', 'teknik_dasar_tenis_meja', 'hasil_bakat_tenis_meja']]\n",
    "data_training_tolak_peluru = labeling[['jenis_kelamin', 'tinggi_badan', 'berat_badan', 'kemampuan_fisik_tolak_peluru', 'teknik_dasar_tolak_peluru', 'hasil_bakat_tolak_peluru']]\n"
   ]
  },
  {
   "cell_type": "raw",
   "metadata": {},
   "source": [
    "pembentukan data training"
   ]
  },
  {
   "cell_type": "code",
   "execution_count": 6,
   "metadata": {},
   "outputs": [],
   "source": [
    "from sklearn.model_selection import train_test_split\n",
    "from sklearn.naive_bayes import GaussianNB"
   ]
  },
  {
   "cell_type": "code",
   "execution_count": 7,
   "metadata": {},
   "outputs": [],
   "source": [
    "y_lari = csv['hasil_bakat_lari']\n",
    "x_lari = csv[['jenis_kelamin', 'tinggi_badan', 'berat_badan', 'kemampuan_fisik_lari','teknik_dasar_lari']]\n",
    "x_train_lari, x_test_lari, y_train_lari, y_test_lari = train_test_split(x_lari,y_lari, test_size=0.2, random_state=0)"
   ]
  },
  {
   "cell_type": "code",
   "execution_count": 8,
   "metadata": {},
   "outputs": [
    {
     "data": {
      "text/plain": [
       "GaussianNB()"
      ]
     },
     "execution_count": 8,
     "metadata": {},
     "output_type": "execute_result"
    }
   ],
   "source": [
    "model_lari = GaussianNB()\n",
    "model_lari.fit(x_train_lari, y_train_lari)"
   ]
  },
  {
   "cell_type": "code",
   "execution_count": 9,
   "metadata": {},
   "outputs": [],
   "source": [
    "y_prediksi_lari = model_lari.predict(x_test_lari)"
   ]
  },
  {
   "cell_type": "code",
   "execution_count": null,
   "metadata": {},
   "outputs": [],
   "source": []
  },
  {
   "cell_type": "raw",
   "metadata": {},
   "source": [
    "pengujian"
   ]
  },
  {
   "cell_type": "code",
   "execution_count": 10,
   "metadata": {},
   "outputs": [],
   "source": [
    "from sklearn import metrics"
   ]
  },
  {
   "cell_type": "code",
   "execution_count": 11,
   "metadata": {},
   "outputs": [],
   "source": [
    "precision = metrics.precision_score(y_test_lari, y_prediksi_lari, average=None)\n",
    "recall = metrics.recall_score(y_test_lari, y_prediksi_lari, average=None)\n",
    "akurasi = metrics.accuracy_score(y_test_lari, y_prediksi_lari)"
   ]
  },
  {
   "cell_type": "code",
   "execution_count": 12,
   "metadata": {},
   "outputs": [
    {
     "data": {
      "text/plain": [
       "1.0"
      ]
     },
     "execution_count": 12,
     "metadata": {},
     "output_type": "execute_result"
    }
   ],
   "source": [
    "round(precision[1], 2)"
   ]
  },
  {
   "cell_type": "code",
   "execution_count": null,
   "metadata": {},
   "outputs": [],
   "source": []
  },
  {
   "cell_type": "code",
   "execution_count": 23,
   "metadata": {},
   "outputs": [
    {
     "data": {
      "text/plain": [
       "array([[ 1,  1,  1, 80, 80],\n",
       "       [ 0,  1,  1, 70, 70],\n",
       "       [ 0,  1,  0, 85, 85],\n",
       "       [ 1,  0,  0, 90, 90],\n",
       "       [ 0,  0,  0, 80, 80],\n",
       "       [ 0,  1,  1, 85, 85],\n",
       "       [ 1,  0,  1, 95, 95],\n",
       "       [ 0,  1,  1, 75, 75],\n",
       "       [ 0,  0,  0, 90, 90],\n",
       "       [ 1,  0,  1, 85, 85],\n",
       "       [ 1,  1,  1, 85, 85],\n",
       "       [ 1,  0,  1, 90, 90],\n",
       "       [ 0,  1,  1, 80, 80],\n",
       "       [ 0,  1,  1, 90, 90],\n",
       "       [ 0,  1,  1, 90, 90],\n",
       "       [ 1,  1,  1, 70, 70],\n",
       "       [ 0,  1,  0, 75, 75],\n",
       "       [ 0,  0,  0, 90, 90],\n",
       "       [ 1,  1,  1, 75, 75],\n",
       "       [ 0,  0,  0, 85, 85],\n",
       "       [ 1,  0,  1, 80, 80],\n",
       "       [ 1,  1,  1, 90, 90],\n",
       "       [ 0,  0,  1, 75, 75],\n",
       "       [ 1,  1,  1, 80, 80]], dtype=int64)"
      ]
     },
     "execution_count": 23,
     "metadata": {},
     "output_type": "execute_result"
    }
   ],
   "source": [
    "x_test_lari.values"
   ]
  },
  {
   "cell_type": "raw",
   "metadata": {},
   "source": [
    "FINISH"
   ]
  },
  {
   "cell_type": "code",
   "execution_count": 19,
   "metadata": {},
   "outputs": [
    {
     "data": {
      "text/html": [
       "<div>\n",
       "<style scoped>\n",
       "    .dataframe tbody tr th:only-of-type {\n",
       "        vertical-align: middle;\n",
       "    }\n",
       "\n",
       "    .dataframe tbody tr th {\n",
       "        vertical-align: top;\n",
       "    }\n",
       "\n",
       "    .dataframe thead th {\n",
       "        text-align: right;\n",
       "    }\n",
       "</style>\n",
       "<table border=\"1\" class=\"dataframe\">\n",
       "  <thead>\n",
       "    <tr style=\"text-align: right;\">\n",
       "      <th></th>\n",
       "      <th>jenis_kelamin</th>\n",
       "      <th>tinggi_badan</th>\n",
       "      <th>berat_badan</th>\n",
       "      <th>kemampuan_fisik_lari</th>\n",
       "      <th>teknik_dasar_lari</th>\n",
       "    </tr>\n",
       "  </thead>\n",
       "  <tbody>\n",
       "    <tr>\n",
       "      <th>71</th>\n",
       "      <td>0</td>\n",
       "      <td>1</td>\n",
       "      <td>1</td>\n",
       "      <td>85</td>\n",
       "      <td>85</td>\n",
       "    </tr>\n",
       "    <tr>\n",
       "      <th>97</th>\n",
       "      <td>0</td>\n",
       "      <td>1</td>\n",
       "      <td>0</td>\n",
       "      <td>95</td>\n",
       "      <td>95</td>\n",
       "    </tr>\n",
       "    <tr>\n",
       "      <th>111</th>\n",
       "      <td>0</td>\n",
       "      <td>1</td>\n",
       "      <td>1</td>\n",
       "      <td>85</td>\n",
       "      <td>85</td>\n",
       "    </tr>\n",
       "    <tr>\n",
       "      <th>100</th>\n",
       "      <td>0</td>\n",
       "      <td>0</td>\n",
       "      <td>0</td>\n",
       "      <td>75</td>\n",
       "      <td>75</td>\n",
       "    </tr>\n",
       "    <tr>\n",
       "      <th>8</th>\n",
       "      <td>1</td>\n",
       "      <td>1</td>\n",
       "      <td>0</td>\n",
       "      <td>85</td>\n",
       "      <td>85</td>\n",
       "    </tr>\n",
       "    <tr>\n",
       "      <th>...</th>\n",
       "      <td>...</td>\n",
       "      <td>...</td>\n",
       "      <td>...</td>\n",
       "      <td>...</td>\n",
       "      <td>...</td>\n",
       "    </tr>\n",
       "    <tr>\n",
       "      <th>112</th>\n",
       "      <td>0</td>\n",
       "      <td>1</td>\n",
       "      <td>1</td>\n",
       "      <td>75</td>\n",
       "      <td>75</td>\n",
       "    </tr>\n",
       "    <tr>\n",
       "      <th>67</th>\n",
       "      <td>1</td>\n",
       "      <td>1</td>\n",
       "      <td>1</td>\n",
       "      <td>85</td>\n",
       "      <td>85</td>\n",
       "    </tr>\n",
       "    <tr>\n",
       "      <th>64</th>\n",
       "      <td>1</td>\n",
       "      <td>1</td>\n",
       "      <td>1</td>\n",
       "      <td>90</td>\n",
       "      <td>90</td>\n",
       "    </tr>\n",
       "    <tr>\n",
       "      <th>47</th>\n",
       "      <td>0</td>\n",
       "      <td>0</td>\n",
       "      <td>0</td>\n",
       "      <td>80</td>\n",
       "      <td>80</td>\n",
       "    </tr>\n",
       "    <tr>\n",
       "      <th>44</th>\n",
       "      <td>1</td>\n",
       "      <td>1</td>\n",
       "      <td>1</td>\n",
       "      <td>90</td>\n",
       "      <td>90</td>\n",
       "    </tr>\n",
       "  </tbody>\n",
       "</table>\n",
       "<p>92 rows × 5 columns</p>\n",
       "</div>"
      ],
      "text/plain": [
       "     jenis_kelamin  tinggi_badan  berat_badan  kemampuan_fisik_lari  \\\n",
       "71               0             1            1                    85   \n",
       "97               0             1            0                    95   \n",
       "111              0             1            1                    85   \n",
       "100              0             0            0                    75   \n",
       "8                1             1            0                    85   \n",
       "..             ...           ...          ...                   ...   \n",
       "112              0             1            1                    75   \n",
       "67               1             1            1                    85   \n",
       "64               1             1            1                    90   \n",
       "47               0             0            0                    80   \n",
       "44               1             1            1                    90   \n",
       "\n",
       "     teknik_dasar_lari  \n",
       "71                  85  \n",
       "97                  95  \n",
       "111                 85  \n",
       "100                 75  \n",
       "8                   85  \n",
       "..                 ...  \n",
       "112                 75  \n",
       "67                  85  \n",
       "64                  90  \n",
       "47                  80  \n",
       "44                  90  \n",
       "\n",
       "[92 rows x 5 columns]"
      ]
     },
     "execution_count": 19,
     "metadata": {},
     "output_type": "execute_result"
    }
   ],
   "source": [
    "x_train_lari"
   ]
  },
  {
   "cell_type": "code",
   "execution_count": 14,
   "metadata": {},
   "outputs": [
    {
     "data": {
      "text/plain": [
       "71     85\n",
       "97     95\n",
       "111    85\n",
       "100    75\n",
       "8      85\n",
       "       ..\n",
       "112    75\n",
       "67     85\n",
       "64     90\n",
       "47     80\n",
       "44     90\n",
       "Name: hasil_bakat_lari, Length: 92, dtype: object"
      ]
     },
     "execution_count": 14,
     "metadata": {},
     "output_type": "execute_result"
    }
   ],
   "source": [
    "y_train_lari"
   ]
  },
  {
   "cell_type": "code",
   "execution_count": 18,
   "metadata": {},
   "outputs": [
    {
     "data": {
      "text/plain": [
       "jenis_kelamin            0\n",
       "tinggi_badan             1\n",
       "berat_badan              1\n",
       "kemampuan_fisik_lari    70\n",
       "teknik_dasar_lari       70\n",
       "Name: 74, dtype: int64"
      ]
     },
     "execution_count": 18,
     "metadata": {},
     "output_type": "execute_result"
    }
   ],
   "source": [
    "x_test_lari.iloc[1,:]"
   ]
  },
  {
   "cell_type": "code",
   "execution_count": null,
   "metadata": {},
   "outputs": [],
   "source": []
  },
  {
   "cell_type": "code",
   "execution_count": null,
   "metadata": {},
   "outputs": [],
   "source": []
  },
  {
   "cell_type": "code",
   "execution_count": null,
   "metadata": {},
   "outputs": [],
   "source": []
  },
  {
   "cell_type": "code",
   "execution_count": null,
   "metadata": {},
   "outputs": [],
   "source": []
  },
  {
   "cell_type": "code",
   "execution_count": null,
   "metadata": {},
   "outputs": [],
   "source": []
  },
  {
   "cell_type": "code",
   "execution_count": null,
   "metadata": {},
   "outputs": [],
   "source": []
  },
  {
   "cell_type": "code",
   "execution_count": null,
   "metadata": {},
   "outputs": [],
   "source": []
  },
  {
   "cell_type": "code",
   "execution_count": null,
   "metadata": {},
   "outputs": [],
   "source": []
  },
  {
   "cell_type": "code",
   "execution_count": null,
   "metadata": {},
   "outputs": [],
   "source": []
  },
  {
   "cell_type": "code",
   "execution_count": null,
   "metadata": {},
   "outputs": [],
   "source": [
    "csv"
   ]
  },
  {
   "cell_type": "code",
   "execution_count": null,
   "metadata": {},
   "outputs": [],
   "source": [
    "csv = df.copy()"
   ]
  },
  {
   "cell_type": "code",
   "execution_count": null,
   "metadata": {},
   "outputs": [],
   "source": []
  },
  {
   "cell_type": "code",
   "execution_count": null,
   "metadata": {},
   "outputs": [],
   "source": [
    "csv[['hasil_bakat_lari', 'hasil_bakat_voli', 'hasil_bakat_renang', 'hasil_bakat_sepak_bola','hasil_bakat_bulu_tangkis', 'hasil_bakat_tenis_meja', 'hasil_bakat_tolak_peluru']]"
   ]
  },
  {
   "cell_type": "code",
   "execution_count": null,
   "metadata": {},
   "outputs": [],
   "source": [
    "labeling.head(11)"
   ]
  },
  {
   "cell_type": "code",
   "execution_count": null,
   "metadata": {},
   "outputs": [],
   "source": [
    "# pengkondisian untuk ideal dan nonideal\n",
    "\n",
    "# if jenis_kelamin == 'perempuan':\n",
    "#     if tinggi_badan < 145:\n",
    "#         pass\n",
    "#     if tinggi_badan > 155\n",
    "#         pass\n",
    "# else:\n",
    "#     if tinggi_badan < 148:\n",
    "#         pass\n",
    "#     if tinggi_badan > 158\n",
    "#         pass/"
   ]
  },
  {
   "cell_type": "code",
   "execution_count": null,
   "metadata": {},
   "outputs": [],
   "source": [
    "konvers(csv)"
   ]
  },
  {
   "cell_type": "code",
   "execution_count": null,
   "metadata": {},
   "outputs": [],
   "source": []
  },
  {
   "cell_type": "code",
   "execution_count": null,
   "metadata": {},
   "outputs": [],
   "source": [
    "y_test_lari"
   ]
  },
  {
   "cell_type": "code",
   "execution_count": null,
   "metadata": {},
   "outputs": [],
   "source": [
    "y_prediksi_lari"
   ]
  },
  {
   "cell_type": "code",
   "execution_count": null,
   "metadata": {},
   "outputs": [],
   "source": [
    "x_test_lari"
   ]
  },
  {
   "cell_type": "code",
   "execution_count": null,
   "metadata": {},
   "outputs": [],
   "source": [
    "gabung = x_test_lari.copy()"
   ]
  },
  {
   "cell_type": "code",
   "execution_count": null,
   "metadata": {},
   "outputs": [],
   "source": [
    "gabung['hasil_bakat_lari'] = y_test_lari"
   ]
  },
  {
   "cell_type": "code",
   "execution_count": null,
   "metadata": {},
   "outputs": [],
   "source": [
    "gabung"
   ]
  },
  {
   "cell_type": "code",
   "execution_count": null,
   "metadata": {},
   "outputs": [],
   "source": [
    "x_test_lari.iloc[1, :].values"
   ]
  },
  {
   "cell_type": "code",
   "execution_count": null,
   "metadata": {},
   "outputs": [],
   "source": [
    "siswa1 = np.array([0,0,0, 50, 45])"
   ]
  },
  {
   "cell_type": "code",
   "execution_count": null,
   "metadata": {},
   "outputs": [],
   "source": [
    "model_lari.predict([siswa1])"
   ]
  },
  {
   "cell_type": "code",
   "execution_count": null,
   "metadata": {},
   "outputs": [],
   "source": []
  }
 ],
 "metadata": {
  "kernelspec": {
   "display_name": "Django Shell-Plus",
   "language": "python",
   "name": "django_extensions"
  },
  "language_info": {
   "codemirror_mode": {
    "name": "ipython",
    "version": 3
   },
   "file_extension": ".py",
   "mimetype": "text/x-python",
   "name": "python",
   "nbconvert_exporter": "python",
   "pygments_lexer": "ipython3",
   "version": "3.8.3"
  }
 },
 "nbformat": 4,
 "nbformat_minor": 4
}
