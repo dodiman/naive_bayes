{
 "cells": [
  {
   "cell_type": "code",
   "execution_count": 6,
   "metadata": {},
   "outputs": [
    {
     "name": "stdout",
     "output_type": "stream",
     "text": [
      "0     [Fed, official, says, weak, data, caused, weat...\n",
      "1     [Feds, Charles, Plosser, sees, high, bar, chan...\n",
      "2     [US, open, Stocks, fall, Fed, official, hints,...\n",
      "3     [Fed, risks, falling, behind, curve, Charles, ...\n",
      "4     [Feds, Plosser, Nasty, Weather, Curbed, Job, G...\n",
      "                            ...                        \n",
      "60    [GM, recalls, another, 24M, vehicles, belts, b...\n",
      "61    [Business, update, Parade, GM, recalls, rolls,...\n",
      "62                     [GM, keeps, recalling, vehicles]\n",
      "63                                        [GM, recalls]\n",
      "64                     [10, largest, GM, recalls, year]\n",
      "Name: TITLE, Length: 65, dtype: object\n",
      "['b' 'b' 'b' 'b' 'b' 'b' 'b' 'b' 'b' 'b' 'b' 'e' 'e' 'e' 'e' 'e' 'e' 'e'\n",
      " 'e' 'e' 'e' 'e' 'e' 'e' 'e' 'e' 'e' 'e' 'e' 'e' 'e' 'e' 'e' 'e' 'e' 'e'\n",
      " 'e' 'e' 'e' 'e' 'e' 'e' 'e' 't' 't' 't' 't' 't' 't' 't' 't' 't' 't' 't'\n",
      " 't' 't' 't' 't' 't' 't' 't' 't' 't' 't' 't']\n"
     ]
    }
   ],
   "source": [
    "import numpy as np\n",
    "import pandas as pd\n",
    "from nltk import word_tokenize\n",
    "from sklearn.feature_extraction.text import CountVectorizer\n",
    "from nltk.corpus import stopwords\n",
    "from sklearn.feature_extraction.text import TfidfTransformer\n",
    "from sklearn.naive_bayes import MultinomialNB\n",
    "from sklearn.metrics import confusion_matrix\n",
    "import string\n",
    "\n",
    "df = pd.read_csv('D:/aplikasiku/naivebayes/bayes/myapp/sampel_data.csv')\n",
    "data = \"Piford Technologies is a Software Development company\"\n",
    "# data = \"Piford Technologies is a Software Development company. Piford also provide trainings.\"\n",
    "datanya = set(stopwords.words('english'))\n",
    "data_1=[char for char in data if char not in string.punctuation]\n",
    "data_1=''.join(data_1)\n",
    "data_1=data_1.split()  #word_tokenize(data)\n",
    "\n",
    "# proses transform\n",
    "vectorizer = CountVectorizer()\n",
    "vectorizer.fit(data_1)\n",
    "vector = vectorizer.transform(data_1)\n",
    "\n",
    "def text_cleaning(a):\n",
    "    remove_punctuation = [char for char in a if char not in string.punctuation]\n",
    "    remove_punctuation=''.join(remove_punctuation)\n",
    "    return [word for word in remove_punctuation.split() if word.lower() not in stopwords.words('english')]\n",
    "\n",
    "df.iloc[:,0].apply(text_cleaning))\n",
    "\n",
    "bow_transformer = CountVectorizer(analyzer=text_cleaning).fit(df['TITLE'])\n",
    "\n",
    "bow_transformer.vocabulary_\n",
    "title_bow = bow_transformer.transform(df['TITLE'])\n",
    "\n",
    "X = title_bow.toarray()\n",
    "\n",
    "tfidf_transformer=TfidfTransformer().fit(title_bow)\n",
    "\n",
    "title_tfidf=tfidf_transformer.transform(title_bow)\n",
    "\n",
    "model = MultinomialNB().fit(title_tfidf,df['CATEGORY'])   # PROSES TRAINING DATA DENGAN MENGGUNANAN MULTINOMIALNB\n",
    "\n",
    "all_predictions = model.predict(title_tfidf)   # PREDKSI BEBERAPA VARIABEL\n",
    "print(all_predictions)"
   ]
  },
  {
   "cell_type": "code",
   "execution_count": null,
   "metadata": {},
   "outputs": [],
   "source": []
  }
 ],
 "metadata": {
  "kernelspec": {
   "display_name": "Python 3",
   "language": "python",
   "name": "python3"
  },
  "language_info": {
   "codemirror_mode": {
    "name": "ipython",
    "version": 3
   },
   "file_extension": ".py",
   "mimetype": "text/x-python",
   "name": "python",
   "nbconvert_exporter": "python",
   "pygments_lexer": "ipython3",
   "version": "3.8.3"
  }
 },
 "nbformat": 4,
 "nbformat_minor": 4
}
